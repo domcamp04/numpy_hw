{
 "cells": [
  {
   "cell_type": "markdown",
   "metadata": {},
   "source": [
    "# Exercises"
   ]
  },
  {
   "cell_type": "code",
   "execution_count": 1,
   "metadata": {},
   "outputs": [],
   "source": [
    "import numpy as np"
   ]
  },
  {
   "cell_type": "markdown",
   "metadata": {},
   "source": [
    "### #1 - Calculate the BMI (body mass index) on the two lists below using NDArrays..."
   ]
  },
  {
   "cell_type": "code",
   "execution_count": 3,
   "metadata": {},
   "outputs": [
    {
     "data": {
      "text/plain": [
       "array([16.86620458, 17.87755102, 18.82562984, 19.71450617, 20.54794521,\n",
       "       21.32943755, 22.06222222])"
      ]
     },
     "execution_count": 3,
     "metadata": {},
     "output_type": "execute_result"
    }
   ],
   "source": [
    "\n",
    "# formula = weight / (height**2) * 730\n",
    "height = [69, 70, 71, 72, 73, 74, 75]\n",
    "weight = [110, 120, 130, 140, 150, 160, 170]\n",
    "\n",
    "h1 = np.array(height)\n",
    "w1 = np.array(weight)\n",
    "\n",
    "bmi = w1 / (h1**2) * 730\n",
    "bmi\n",
    "# OUTPUT: [16.86620458 17.87755102 18.82562984 19.71450617 20.54794521 21.32943755\n",
    "# 22.06222222]\n",
    "\n",
    "\n"
   ]
  },
  {
   "cell_type": "markdown",
   "metadata": {},
   "source": [
    "### #2 - Create a function that will take in two parameters and will create a random matrix based off of those parameters. Extra: Have additional parameters taken in that allow the user to choose the shape and data type of the matrix."
   ]
  },
  {
   "cell_type": "code",
   "execution_count": 14,
   "metadata": {},
   "outputs": [
    {
     "data": {
      "text/plain": [
       "array([[4.34576434, 6.631822  , 8.25614169],\n",
       "       [5.17697669, 8.88873476, 9.04638096],\n",
       "       [3.26854626, 6.84123724, 4.49155984]])"
      ]
     },
     "execution_count": 14,
     "metadata": {},
     "output_type": "execute_result"
    }
   ],
   "source": [
    "np.random.uniform(3,10,(3,3))\n",
    "\n",
    "# def random_matrix(a,b):\n",
    "#     rando = np.random.uniform(a,b,(3,3))\n",
    "#     return rando(a,b)\n",
    "\n",
    "# print(random_matrix(1,5))\n",
    "\n",
    "# \"\"\"\n",
    "# Example Result for make_matrix(0,15,(3,3)):\n",
    "# array([[14.21633515,  7.98846653,  9.64140715],\n",
    "#        [ 6.30982234,  9.96414331,  8.43153688],\n",
    "#        [14.73102068, 11.76072894, 14.23356121]])\n",
    "# \"\"\"\n",
    "# # def make_matrix(low,high,shape,data_type = float): -- Example\n",
    "# #     pass"
   ]
  },
  {
   "cell_type": "markdown",
   "metadata": {},
   "source": [
    "### #3 - Open and load the data for the Chicago White Sox hitting data for this past season.Create a function that will compare the infield players output vs the outfield players output vs *hybrid. (Infield - {C, 1B, 2B, SS, 3B, MI}, Outfield - {LF, CF, RF, OF}, *Hybrid - {DH, UT}) for a specific stat. i.e. BA or HR or OPS\n",
    "\n",
    "*Hybrid is optional\n"
   ]
  },
  {
   "cell_type": "code",
   "execution_count": 26,
   "metadata": {},
   "outputs": [
    {
     "name": "stderr",
     "output_type": "stream",
     "text": [
      "<ipython-input-26-e5b35e4ae5cd>:14: ConversionWarning: Some errors were detected !\n",
      "    Line #2 (got 29 columns instead of 28)\n",
      "    Line #3 (got 29 columns instead of 28)\n",
      "    Line #4 (got 29 columns instead of 28)\n",
      "    Line #5 (got 29 columns instead of 28)\n",
      "    Line #6 (got 29 columns instead of 28)\n",
      "    Line #7 (got 29 columns instead of 28)\n",
      "    Line #8 (got 29 columns instead of 28)\n",
      "    Line #9 (got 29 columns instead of 28)\n",
      "    Line #10 (got 29 columns instead of 28)\n",
      "    Line #11 (got 29 columns instead of 28)\n",
      "    Line #12 (got 29 columns instead of 28)\n",
      "    Line #13 (got 29 columns instead of 28)\n",
      "    Line #14 (got 29 columns instead of 28)\n",
      "    Line #15 (got 29 columns instead of 28)\n",
      "    Line #16 (got 29 columns instead of 28)\n",
      "    Line #17 (got 29 columns instead of 28)\n",
      "    Line #18 (got 29 columns instead of 28)\n",
      "    Line #19 (got 29 columns instead of 28)\n",
      "    Line #20 (got 29 columns instead of 28)\n",
      "    Line #21 (got 29 columns instead of 28)\n",
      "    Line #22 (got 29 columns instead of 28)\n",
      "    Line #23 (got 29 columns instead of 28)\n",
      "    Line #24 (got 29 columns instead of 28)\n",
      "    Line #25 (got 29 columns instead of 28)\n",
      "  data = np.genfromtxt(filename, dtype=DATATYPES, delimiter=d, names=True, invalid_raise=False)\n"
     ]
    },
    {
     "data": {
      "text/plain": [
       "array([],\n",
       "      dtype=[('Rk', '<i4'), ('Pos', 'S25'), ('Name', 'S25'), ('Age', '<i4'), ('G', '<i4'), ('PA', '<i4'), ('AB', '<i4'), ('R', '<i4'), ('H', '<i4'), ('2B', '<i4'), ('3B', '<i4'), ('HR', '<i4'), ('RBI', '<i4'), ('SB', '<i4'), ('CS', '<i4'), ('BB', '<i4'), ('SO', '<i4'), ('BA', '<f4'), ('OBP', '<f4'), ('SLG', '<f4'), ('OPS', '<f4'), ('OPS_1', '<i4'), ('TB', '<i4'), ('GDP', '<i4'), ('HBP', '<i4'), ('SH', '<i4'), ('SF', '<i4'), ('IBB', '<i4')])"
      ]
     },
     "execution_count": 26,
     "metadata": {},
     "output_type": "execute_result"
    }
   ],
   "source": [
    "import csv\n",
    "import numpy as np\n",
    "\n",
    "\n",
    "FIELDS = ['Rank', 'Pos', 'Name', 'Age', 'G', 'PA', 'AB', 'R', 'H', '2B', '3B', 'HR', 'RBI', 'SB', 'CS', \n",
    "          'BB', 'SO', 'BA', 'OBP', 'SLG', 'OPS', 'OPS+', 'TB', 'GDP', 'HBP', 'SH', 'SF', 'IBB']\n",
    "\n",
    "DATATYPES = [('rank', 'i'), ('pos', '|S25'), ('name', '|S25'), ('age', 'i'), ('g', 'i'), ('pa', 'i'), ('ab', 'i'),\n",
    "                ('r', 'i'), ('h', 'i'), ('2b', 'i'), ('3b', 'i'), ('hr', 'i'), ('rbi', 'i'), ('sb', 'i'), ('cs', 'i'),\n",
    "                ('bb', 'i'), ('so', 'i'), ('ba', 'f'), ('obp', 'f'), ('slg', 'f'), ('ops', 'f'), ('opsp', 'i'),\n",
    "                ('tb', 'i'), ('gdp', 'i'), ('hbp', 'i'), ('sh', 'i'), ('sf', 'i'), ('ibb', 'i')]\n",
    "\n",
    "def load_data(filename, d=''):\n",
    "    data = np.genfromtxt(filename, dtype=DATATYPES, delimiter=d, names=True, invalid_raise=False)\n",
    "    return data\n",
    "    \n",
    "    \n",
    "whitesox = load_data('whitesox_hitting.txt')\n",
    "whitesox\n",
    "# names = whitesox['Name']\n",
    "# print(names)\n",
    "\n",
    "#Test to make sure you have the correct data\n",
    "\n"
   ]
  },
  {
   "cell_type": "code",
   "execution_count": 27,
   "metadata": {},
   "outputs": [
    {
     "name": "stderr",
     "output_type": "stream",
     "text": [
      "<ipython-input-27-938ea1230941>:11: ConversionWarning: Some errors were detected !\n",
      "    Line #2 (got 29 columns instead of 28)\n",
      "    Line #3 (got 29 columns instead of 28)\n",
      "    Line #4 (got 29 columns instead of 28)\n",
      "    Line #5 (got 29 columns instead of 28)\n",
      "    Line #6 (got 29 columns instead of 28)\n",
      "    Line #7 (got 29 columns instead of 28)\n",
      "    Line #8 (got 29 columns instead of 28)\n",
      "    Line #9 (got 29 columns instead of 28)\n",
      "    Line #10 (got 29 columns instead of 28)\n",
      "    Line #11 (got 29 columns instead of 28)\n",
      "    Line #12 (got 29 columns instead of 28)\n",
      "    Line #13 (got 29 columns instead of 28)\n",
      "    Line #14 (got 29 columns instead of 28)\n",
      "    Line #15 (got 29 columns instead of 28)\n",
      "    Line #16 (got 29 columns instead of 28)\n",
      "    Line #17 (got 29 columns instead of 28)\n",
      "    Line #18 (got 29 columns instead of 28)\n",
      "    Line #19 (got 29 columns instead of 28)\n",
      "    Line #20 (got 29 columns instead of 28)\n",
      "    Line #21 (got 29 columns instead of 28)\n",
      "    Line #22 (got 29 columns instead of 28)\n",
      "    Line #23 (got 29 columns instead of 28)\n",
      "    Line #24 (got 29 columns instead of 28)\n",
      "    Line #25 (got 29 columns instead of 28)\n",
      "  data = np.genfromtxt(filename, dtype=DATATYPES, delimiter=d, names=True, invalid_raise=False)\n"
     ]
    },
    {
     "data": {
      "text/plain": [
       "array([],\n",
       "      dtype=[('Rk', '<i4'), ('Pos', 'S25'), ('Name', 'S25'), ('Age', '<i4'), ('G', '<i4'), ('PA', '<i4'), ('AB', '<i4'), ('R', '<i4'), ('H', '<i4'), ('2B', '<i4'), ('3B', '<i4'), ('HR', '<i4'), ('RBI', '<i4'), ('SB', '<i4'), ('CS', '<i4'), ('BB', '<i4'), ('SO', '<i4'), ('BA', '<f4'), ('OBP', '<f4'), ('SLG', '<f4'), ('OPS', '<f4'), ('OPS_1', '<i4'), ('TB', '<i4'), ('GDP', '<i4'), ('HBP', '<i4'), ('SH', '<i4'), ('SF', '<i4'), ('IBB', '<i4')])"
      ]
     },
     "execution_count": 27,
     "metadata": {},
     "output_type": "execute_result"
    }
   ],
   "source": [
    "\n",
    "\n",
    "FIELDS = ['Rk', 'Pos', 'Name', 'Age', 'G', 'PA', 'AB', 'R', 'H', '2B', '3B', 'HR', 'RBI', 'SB', 'CS', \n",
    "          'BB', 'SO', 'BA', 'OBP', 'SLG', 'OPS', 'OPS+', 'TB', 'GDP', 'HBP', 'SH', 'SF', 'IBB']\n",
    "\n",
    "DATATYPES = [('rk', 'i'), ('pos', '|S25'), ('name', '|S25'), ('age', 'i'), ('g', 'i'), ('pa', 'i'), ('ab', 'i'),\n",
    "                ('r', 'i'), ('h', 'i'), ('2b', 'i'), ('3b', 'i'), ('hr', 'i'), ('rbi', 'i'), ('sb', 'i'), ('cs', 'i'),\n",
    "                ('bb', 'i'), ('so', 'i'), ('ba', 'f'), ('obp', 'f'), ('slg', 'f'), ('ops', 'f'), ('opsp', 'i'),\n",
    "                ('tb', 'i'), ('gdp', 'i'), ('hbp', 'i'), ('sh', 'i'), ('sf', 'i'), ('ibb', 'i')]\n",
    "\n",
    "#Use this function to actually open the data inside of a NDArray\n",
    "def load_data(filename, d=''):\n",
    "    data = np.genfromtxt(filename, dtype=DATATYPES, delimiter=d, names=True, invalid_raise=False)\n",
    "    return data\n",
    "    \n",
    "    \n",
    "whitesox = load_data('whitesox_hitting.txt')\n",
    "whitesox\n"
   ]
  },
  {
   "cell_type": "code",
   "execution_count": null,
   "metadata": {},
   "outputs": [],
   "source": []
  }
 ],
 "metadata": {
  "kernelspec": {
   "display_name": "Python 3",
   "language": "python",
   "name": "python3"
  },
  "language_info": {
   "codemirror_mode": {
    "name": "ipython",
    "version": 3
   },
   "file_extension": ".py",
   "mimetype": "text/x-python",
   "name": "python",
   "nbconvert_exporter": "python",
   "pygments_lexer": "ipython3",
   "version": "3.8.8"
  }
 },
 "nbformat": 4,
 "nbformat_minor": 2
}
